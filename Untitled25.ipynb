{
  "nbformat": 4,
  "nbformat_minor": 0,
  "metadata": {
    "colab": {
      "provenance": []
    },
    "kernelspec": {
      "name": "python3",
      "display_name": "Python 3"
    },
    "language_info": {
      "name": "python"
    }
  },
  "cells": [
    {
      "cell_type": "code",
      "execution_count": null,
      "metadata": {
        "colab": {
          "base_uri": "https://localhost:8080/"
        },
        "id": "HBMiJWEHrULi",
        "outputId": "e3f95989-a09d-46b5-d405-8703de6c83e2"
      },
      "outputs": [
        {
          "output_type": "stream",
          "name": "stdout",
          "text": [
            "Login failed\n"
          ]
        }
      ],
      "source": [
        "import requests\n",
        "from bs4 import BeautifulSoup\n",
        "\n",
        "login_url = 'https://theresanaiforthat.com/login'\n",
        "target_url = 'https://theresanaiforthat.com/saved'\n",
        "\n",
        "session = requests.Session()\n",
        "\n",
        "username = 'abhinallagatla'\n",
        "password = 'Abhi12345'\n",
        "\n",
        "email_data = {\n",
        "    'email_field_name': username,\n",
        "}\n",
        "email_response = session.post(login_url, data=email_data)\n",
        "\n",
        "password_data = {\n",
        "    'password_field_name': password,\n",
        "}\n",
        "password_response = session.post(login_url, data=password_data)\n",
        "\n",
        "if 'Login Successful' in password_response.text:\n",
        "\n",
        "    target_response = session.get(target_url)\n",
        "\n",
        "\n",
        "    soup = BeautifulSoup(target_response.text, 'html.parser')\n",
        "\n",
        "\n",
        "    data = soup.find('div', class_='your-data-class')\n",
        "    print(data.text)\n",
        "else:\n",
        "    print('Login failed')\n",
        "\n",
        "\n"
      ]
    },
    {
      "cell_type": "code",
      "source": [
        "pip install selenium"
      ],
      "metadata": {
        "colab": {
          "base_uri": "https://localhost:8080/"
        },
        "id": "MLQSb41_vMy1",
        "outputId": "a8bf12c0-73dc-4c47-c80e-f4efeb86dff9"
      },
      "execution_count": 1,
      "outputs": [
        {
          "output_type": "stream",
          "name": "stdout",
          "text": [
            "Collecting selenium\n",
            "  Downloading selenium-4.14.0-py3-none-any.whl (9.9 MB)\n",
            "\u001b[2K     \u001b[90m━━━━━━━━━━━━━━━━━━━━━━━━━━━━━━━━━━━━━━━━\u001b[0m \u001b[32m9.9/9.9 MB\u001b[0m \u001b[31m53.3 MB/s\u001b[0m eta \u001b[36m0:00:00\u001b[0m\n",
            "\u001b[?25hRequirement already satisfied: urllib3[socks]<3,>=1.26 in /usr/local/lib/python3.10/dist-packages (from selenium) (2.0.6)\n",
            "Collecting trio~=0.17 (from selenium)\n",
            "  Downloading trio-0.22.2-py3-none-any.whl (400 kB)\n",
            "\u001b[2K     \u001b[90m━━━━━━━━━━━━━━━━━━━━━━━━━━━━━━━━━━━━━━━━\u001b[0m \u001b[32m400.2/400.2 kB\u001b[0m \u001b[31m14.6 MB/s\u001b[0m eta \u001b[36m0:00:00\u001b[0m\n",
            "\u001b[?25hCollecting trio-websocket~=0.9 (from selenium)\n",
            "  Downloading trio_websocket-0.11.1-py3-none-any.whl (17 kB)\n",
            "Requirement already satisfied: certifi>=2021.10.8 in /usr/local/lib/python3.10/dist-packages (from selenium) (2023.7.22)\n",
            "Requirement already satisfied: attrs>=20.1.0 in /usr/local/lib/python3.10/dist-packages (from trio~=0.17->selenium) (23.1.0)\n",
            "Requirement already satisfied: sortedcontainers in /usr/local/lib/python3.10/dist-packages (from trio~=0.17->selenium) (2.4.0)\n",
            "Requirement already satisfied: idna in /usr/local/lib/python3.10/dist-packages (from trio~=0.17->selenium) (3.4)\n",
            "Collecting outcome (from trio~=0.17->selenium)\n",
            "  Downloading outcome-1.2.0-py2.py3-none-any.whl (9.7 kB)\n",
            "Requirement already satisfied: sniffio in /usr/local/lib/python3.10/dist-packages (from trio~=0.17->selenium) (1.3.0)\n",
            "Requirement already satisfied: exceptiongroup>=1.0.0rc9 in /usr/local/lib/python3.10/dist-packages (from trio~=0.17->selenium) (1.1.3)\n",
            "Collecting wsproto>=0.14 (from trio-websocket~=0.9->selenium)\n",
            "  Downloading wsproto-1.2.0-py3-none-any.whl (24 kB)\n",
            "Requirement already satisfied: pysocks!=1.5.7,<2.0,>=1.5.6 in /usr/local/lib/python3.10/dist-packages (from urllib3[socks]<3,>=1.26->selenium) (1.7.1)\n",
            "Collecting h11<1,>=0.9.0 (from wsproto>=0.14->trio-websocket~=0.9->selenium)\n",
            "  Downloading h11-0.14.0-py3-none-any.whl (58 kB)\n",
            "\u001b[2K     \u001b[90m━━━━━━━━━━━━━━━━━━━━━━━━━━━━━━━━━━━━━━━━\u001b[0m \u001b[32m58.3/58.3 kB\u001b[0m \u001b[31m5.4 MB/s\u001b[0m eta \u001b[36m0:00:00\u001b[0m\n",
            "\u001b[?25hInstalling collected packages: outcome, h11, wsproto, trio, trio-websocket, selenium\n",
            "Successfully installed h11-0.14.0 outcome-1.2.0 selenium-4.14.0 trio-0.22.2 trio-websocket-0.11.1 wsproto-1.2.0\n"
          ]
        }
      ]
    },
    {
      "cell_type": "code",
      "source": [
        "pip install chromedriver_autoinstaller\n"
      ],
      "metadata": {
        "colab": {
          "base_uri": "https://localhost:8080/"
        },
        "id": "wtbkFW-iwqg_",
        "outputId": "73f2dfc5-de48-4128-c9af-5bde53333eb6"
      },
      "execution_count": 3,
      "outputs": [
        {
          "output_type": "stream",
          "name": "stdout",
          "text": [
            "Collecting chromedriver_autoinstaller\n",
            "  Downloading chromedriver_autoinstaller-0.6.2-py3-none-any.whl (7.4 kB)\n",
            "Installing collected packages: chromedriver_autoinstaller\n",
            "Successfully installed chromedriver_autoinstaller-0.6.2\n"
          ]
        }
      ]
    },
    {
      "cell_type": "code",
      "source": [
        "from selenium import webdriver\n",
        "from selenium.webdriver.common.by import By\n",
        "from selenium.webdriver.chrome.service import Service\n",
        "from selenium.webdriver.chrome.options import Options\n",
        "from selenium.webdriver.common.keys import Keys\n",
        "import time\n",
        "from bs4 import BeautifulSoup\n",
        "\n",
        "# Define the login URL and target URL\n",
        "login_url = 'https://theresanaiforthat.com/login'\n",
        "target_url = 'https://theresanaiforthat.com/saved'\n",
        "\n",
        "# Define your login credentials\n",
        "username = 'abhinallagatla'\n",
        "password = 'Abhi12345'\n",
        "\n",
        "# Set up Chrome options\n",
        "options = Options()\n",
        "options.add_argument('--headless')  # Run Chrome in headless mode (no GUI)\n",
        "\n",
        "# Path to the ChromeDriver executable (update with your own path)\n",
        "chromedriver_path = '/usr/bin/chromedriver'  # Replace with the actual path to chromedriver\n",
        "\n",
        "# Set the path to the ChromeDriver executable using the SERVICE_PATH capability\n",
        "s = Service(chromedriver_path)\n",
        "\n",
        "try:\n",
        "    # Initialize the ChromeDriver with the specified service and options\n",
        "    driver = webdriver.Chrome(service=s, options=options)\n",
        "\n",
        "    # Step 1: Open the login page\n",
        "    driver.get(login_url)\n",
        "\n",
        "    # Step 2: Find and fill in the email field\n",
        "    email_field = driver.find_element(By.NAME, 'email_field_name')  # Replace with the actual field name\n",
        "    email_field.send_keys(username)\n",
        "\n",
        "    # Step 3: Find and fill in the password field\n",
        "    password_field = driver.find_element(By.NAME, 'password_field_name')  # Replace with the actual field name\n",
        "    password_field.send_keys(password)\n",
        "\n",
        "    # Step 4: Submit the form\n",
        "    password_field.send_keys(Keys.RETURN)\n",
        "\n",
        "    # Wait for the login to complete (you may need to add explicit waits)\n",
        "    time.sleep(5)  # Adjust as needed\n",
        "\n",
        "    # Step 5: Access the protected page\n",
        "    driver.get(target_url)\n",
        "\n",
        "    # Now, you are authenticated, and you can access the protected page\n",
        "    # You can proceed to extract the desired data from the page using BeautifulSoup or other methods\n",
        "\n",
        "    # For example, you can use BeautifulSoup to parse the page:\n",
        "    soup = BeautifulSoup(driver.page_source, 'html.parser')\n",
        "    data = soup.find('div', class_='your-data-class')\n",
        "    print(data.text)\n",
        "\n",
        "except Exception as e:\n",
        "    print(f\"An error occurred: {e}\")\n",
        "\n"
      ],
      "metadata": {
        "colab": {
          "base_uri": "https://localhost:8080/"
        },
        "id": "KftmXXjLx79Q",
        "outputId": "f1811f2d-9c84-477d-fa9c-3689ec9a8a17"
      },
      "execution_count": 13,
      "outputs": [
        {
          "output_type": "stream",
          "name": "stdout",
          "text": [
            "An error occurred: Message: Unable to locate or obtain driver for chrome; For documentation on this error, please visit: https://www.selenium.dev/documentation/webdriver/troubleshooting/errors/driver_location\n",
            "\n"
          ]
        }
      ]
    }
  ]
}